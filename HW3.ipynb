{
 "cells": [
  {
   "cell_type": "markdown",
   "id": "e9f7ad5e-55e7-461b-985a-244937fc8470",
   "metadata": {},
   "source": [
    "# 1. Выравнивание с использованием алгоритма Needleman-Wunsch\n"
   ]
  },
  {
   "cell_type": "code",
   "execution_count": 20,
   "id": "11453f94-67b6-4fb6-a95f-825107371297",
   "metadata": {},
   "outputs": [
    {
     "name": "stdout",
     "output_type": "stream",
     "text": [
      "\n",
      " Выравнивание пары 1 \n",
      "Выровненная последовательность 1: GACGAAG\n",
      "Выровненная последовательность 2: -ACCAAG\n",
      "Скор выравнивания: 3\n",
      "\n",
      " Выравнивание пары 2 \n",
      "Выровненная последовательность 1: CGTCTT\n",
      "Выровненная последовательность 2: CATTCT\n",
      "Скор выравнивания: 0\n",
      "\n",
      " Выравнивание пары 3 \n",
      "Выровненная последовательность 1: ATGTCAC\n",
      "Выровненная последовательность 2: ATCTC-C\n",
      "Скор выравнивания: 1\n"
     ]
    }
   ],
   "source": [
    "import numpy as np\n",
    "\n",
    "def needleman_wunsch(seq1, seq2, match, mismatch, indel):\n",
    "    \n",
    "    n = len(seq1)\n",
    "    m = len(seq2)\n",
    "\n",
    "    dp = [[0] * (m + 1) for _ in range(n + 1)]\n",
    "\n",
    "    for i in range(n + 1):\n",
    "        dp[i][0] = indel * i\n",
    "    for j in range(m + 1):\n",
    "        dp[0][j] = indel * j\n",
    "\n",
    "    for i in range(1, n + 1):\n",
    "        for j in range(1, m + 1):\n",
    "            score = match if seq1[i - 1] == seq2[j - 1] else mismatch\n",
    "            dp[i][j] = max(dp[i - 1][j - 1] + score,\n",
    "                           dp[i - 1][j] + indel,\n",
    "                           dp[i][j - 1] + indel)\n",
    "\n",
    "    # Traceback\n",
    "    aligned_seq1 = \"\"\n",
    "    aligned_seq2 = \"\"\n",
    "    i = n\n",
    "    j = m\n",
    "\n",
    "    while i > 0 or j > 0:\n",
    "        if i > 0 and j > 0 and dp[i][j] == dp[i - 1][j - 1] + (match if seq1[i - 1] == seq2[j - 1] else mismatch):\n",
    "            aligned_seq1 = seq1[i - 1] + aligned_seq1\n",
    "            aligned_seq2 = seq2[j - 1] + aligned_seq2\n",
    "            i -= 1\n",
    "            j -= 1\n",
    "        elif i > 0 and dp[i][j] == dp[i - 1][j] + indel:\n",
    "            aligned_seq1 = seq1[i - 1] + aligned_seq1\n",
    "            aligned_seq2 = \"-\" + aligned_seq2\n",
    "            i -= 1\n",
    "        else:\n",
    "            aligned_seq1 = \"-\" + aligned_seq1\n",
    "            aligned_seq2 = seq2[j - 1] + aligned_seq2\n",
    "            j -= 1\n",
    "\n",
    "    return aligned_seq1, aligned_seq2, dp[n][m]\n",
    "\n",
    "sequences = [\n",
    "    (\"GACGAAG\", \"ACCAAG\", 1, -1, -1),  \n",
    "    (\"CGTCTT\", \"CATTCT\", 1, -1, -2),  \n",
    "    (\"ATGTCAC\", \"ATCTCC\", 1, -2, -2)   \n",
    "]\n",
    "\n",
    "for i, (seq1, seq2, match, mismatch, indel) in enumerate(sequences):\n",
    "    print(f\"\\n Выравнивание пары {i+1} \")\n",
    "    aligned_seq1, aligned_seq2, score = needleman_wunsch(seq1, seq2, match, mismatch, indel)\n",
    "\n",
    "    print(\"Выровненная последовательность 1:\", aligned_seq1)\n",
    "    print(\"Выровненная последовательность 2:\", aligned_seq2)\n",
    "    print(\"Скор выравнивания:\", score)"
   ]
  },
  {
   "cell_type": "markdown",
   "id": "6d9788ed-c226-417a-a736-1dd27ad93438",
   "metadata": {},
   "source": [
    " # 2. Выравнивание с использованием Python"
   ]
  },
  {
   "cell_type": "code",
   "execution_count": 22,
   "id": "86e49496-d56e-480e-aa24-c69fd9d97820",
   "metadata": {},
   "outputs": [
    {
     "name": "stdout",
     "output_type": "stream",
     "text": [
      "\n",
      " Выравнивание Последовательностей 1 \n",
      "GACGAAG\n",
      " ||.|||\n",
      "-ACCAAG\n",
      "  Score=3\n",
      "\n",
      "Скор выравнивания 3.0\n",
      "\n",
      " Выравнивание Последовательностей 2 \n",
      "CGTCTT\n",
      "|.|..|\n",
      "CATTCT\n",
      "  Score=0\n",
      "\n",
      "Скор выравнивания 0.0\n",
      "\n",
      " Выравнивание  Последовательностей 3 \n",
      "ATGTCAC\n",
      "||.|| |\n",
      "ATCTC-C\n",
      "  Score=1\n",
      "\n",
      "Скор выравнивания 1.0\n"
     ]
    }
   ],
   "source": [
    "from Bio import pairwise2\n",
    "from Bio.pairwise2 import format_alignment\n",
    "\n",
    "def выполнить_выравнивание(sequence_a, sequence_b, align_name, gap_penalty, mismatch_penalty, match_score=1):\n",
    "    \n",
    "    print(f\"\\n Выравнивание {align_name} \")\n",
    "\n",
    "    alignments = pairwise2.align.globalms(sequence_a, sequence_b, match_score, mismatch_penalty, gap_penalty, gap_penalty)\n",
    "\n",
    "    if alignments:\n",
    "        top_alignment = alignments[0]  \n",
    "        aligned_a, aligned_b, alignment_score, _, _ = top_alignment  \n",
    "        print(format_alignment(*top_alignment))  \n",
    "        print(f\"Скор выравнивания {alignment_score}\")\n",
    "    else:\n",
    "        print(\"Невозможно выполнить выравнивание для этих последовательностей.\")\n",
    "\n",
    "\n",
    "seq_1 = \"GACGAAG\"\n",
    "seq_2 = \"ACCAAG\"\n",
    "gap_cost_1 = -1\n",
    "mismatch_cost_1 = -1\n",
    "\n",
    "seq_3 = \"CGTCTT\"\n",
    "seq_4 = \"CATTCT\"\n",
    "gap_cost_2 = -2\n",
    "mismatch_cost_2 = -1\n",
    "\n",
    "seq_5 = \"ATGTCAC\"\n",
    "seq_6 = \"ATCTCC\"\n",
    "gap_cost_3 = -2\n",
    "mismatch_cost_3 = -2\n",
    "\n",
    "выполнить_выравнивание(seq_1, seq_2, \"Последовательностей 1\", gap_cost_1, mismatch_cost_1)\n",
    "выполнить_выравнивание(seq_3, seq_4, \"Последовательностей 2\", gap_cost_2, mismatch_cost_2)\n",
    "выполнить_выравнивание(seq_5, seq_6, \" Последовательностей 3\", gap_cost_3, mismatch_cost_3)"
   ]
  },
  {
   "cell_type": "code",
   "execution_count": null,
   "id": "f7689486-f7ec-4bb2-a65a-87854f33637f",
   "metadata": {},
   "outputs": [],
   "source": []
  }
 ],
 "metadata": {
  "kernelspec": {
   "display_name": "Python 3 (ipykernel)",
   "language": "python",
   "name": "python3"
  },
  "language_info": {
   "codemirror_mode": {
    "name": "ipython",
    "version": 3
   },
   "file_extension": ".py",
   "mimetype": "text/x-python",
   "name": "python",
   "nbconvert_exporter": "python",
   "pygments_lexer": "ipython3",
   "version": "3.8.12"
  }
 },
 "nbformat": 4,
 "nbformat_minor": 5
}
