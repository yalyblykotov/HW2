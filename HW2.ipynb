{
 "cells": [
  {
   "cell_type": "markdown",
   "id": "d27e7ba1-1a2a-4ccc-a642-e36e5e7a8a9f",
   "metadata": {
    "tags": []
   },
   "source": [
    "# 1. Работа с таблицей"
   ]
  },
  {
   "cell_type": "code",
   "execution_count": 1,
   "id": "98963c90-23b4-4ecd-becf-a0456906dedc",
   "metadata": {},
   "outputs": [
    {
     "name": "stdout",
     "output_type": "stream",
     "text": [
      "Defaulting to user installation because normal site-packages is not writeable\n",
      "Requirement already satisfied: pandas in ./.local/lib/python3.8/site-packages (2.0.3)\n",
      "Requirement already satisfied: python-dateutil>=2.8.2 in /opt/conda-2021122601/envs/jupyterhub/lib/python3.8/site-packages (from pandas) (2.8.2)\n",
      "Requirement already satisfied: pytz>=2020.1 in /opt/conda-2021122601/envs/jupyterhub/lib/python3.8/site-packages (from pandas) (2021.3)\n",
      "Requirement already satisfied: numpy>=1.20.3 in ./.local/lib/python3.8/site-packages (from pandas) (1.24.4)\n",
      "Requirement already satisfied: tzdata>=2022.1 in ./.local/lib/python3.8/site-packages (from pandas) (2025.1)\n",
      "Requirement already satisfied: six>=1.5 in /opt/conda-2021122601/envs/jupyterhub/lib/python3.8/site-packages (from python-dateutil>=2.8.2->pandas) (1.16.0)\n",
      "Note: you may need to restart the kernel to use updated packages.\n"
     ]
    }
   ],
   "source": [
    "pip install pandas"
   ]
  },
  {
   "cell_type": "code",
   "execution_count": 2,
   "id": "e8b6b3b6-1172-4766-be55-b02a8aef9805",
   "metadata": {},
   "outputs": [
    {
     "name": "stdout",
     "output_type": "stream",
     "text": [
      "Defaulting to user installation because normal site-packages is not writeable\n",
      "Requirement already satisfied: matplotlib in ./.local/lib/python3.8/site-packages (3.7.5)\n",
      "Requirement already satisfied: cycler>=0.10 in ./.local/lib/python3.8/site-packages (from matplotlib) (0.12.1)\n",
      "Requirement already satisfied: importlib-resources>=3.2.0 in /opt/conda-2021122601/envs/jupyterhub/lib/python3.8/site-packages (from matplotlib) (5.2.0)\n",
      "Requirement already satisfied: fonttools>=4.22.0 in ./.local/lib/python3.8/site-packages (from matplotlib) (4.56.0)\n",
      "Requirement already satisfied: kiwisolver>=1.0.1 in ./.local/lib/python3.8/site-packages (from matplotlib) (1.4.7)\n",
      "Requirement already satisfied: pillow>=6.2.0 in ./.local/lib/python3.8/site-packages (from matplotlib) (10.4.0)\n",
      "Requirement already satisfied: packaging>=20.0 in /opt/conda-2021122601/envs/jupyterhub/lib/python3.8/site-packages (from matplotlib) (21.3)\n",
      "Requirement already satisfied: contourpy>=1.0.1 in ./.local/lib/python3.8/site-packages (from matplotlib) (1.1.1)\n",
      "Requirement already satisfied: numpy<2,>=1.20 in ./.local/lib/python3.8/site-packages (from matplotlib) (1.24.4)\n",
      "Requirement already satisfied: python-dateutil>=2.7 in /opt/conda-2021122601/envs/jupyterhub/lib/python3.8/site-packages (from matplotlib) (2.8.2)\n",
      "Requirement already satisfied: pyparsing>=2.3.1 in /opt/conda-2021122601/envs/jupyterhub/lib/python3.8/site-packages (from matplotlib) (3.0.4)\n",
      "Requirement already satisfied: zipp>=3.1.0 in /opt/conda-2021122601/envs/jupyterhub/lib/python3.8/site-packages (from importlib-resources>=3.2.0->matplotlib) (3.6.0)\n",
      "Requirement already satisfied: six>=1.5 in /opt/conda-2021122601/envs/jupyterhub/lib/python3.8/site-packages (from python-dateutil>=2.7->matplotlib) (1.16.0)\n",
      "Note: you may need to restart the kernel to use updated packages.\n"
     ]
    }
   ],
   "source": [
    "pip install matplotlib"
   ]
  },
  {
   "cell_type": "markdown",
   "id": "9ed6c29c-0fc0-4523-be7c-3369c43e4a9d",
   "metadata": {},
   "source": [
    "## 1.1 Чтение таблицы"
   ]
  },
  {
   "cell_type": "code",
   "execution_count": 3,
   "id": "4801009a-013c-4ea5-864a-cd02f7456486",
   "metadata": {},
   "outputs": [],
   "source": [
    "import pandas as pd\n",
    "import matplotlib.pyplot as plt\n",
    "from IPython.display import Image"
   ]
  },
  {
   "cell_type": "code",
   "execution_count": 4,
   "id": "4436692f-0251-4640-aa3c-4a7a635de6bf",
   "metadata": {},
   "outputs": [
    {
     "data": {
      "text/html": [
       "<div>\n",
       "<style scoped>\n",
       "    .dataframe tbody tr th:only-of-type {\n",
       "        vertical-align: middle;\n",
       "    }\n",
       "\n",
       "    .dataframe tbody tr th {\n",
       "        vertical-align: top;\n",
       "    }\n",
       "\n",
       "    .dataframe thead th {\n",
       "        text-align: right;\n",
       "    }\n",
       "</style>\n",
       "<table border=\"1\" class=\"dataframe\">\n",
       "  <thead>\n",
       "    <tr style=\"text-align: right;\">\n",
       "      <th></th>\n",
       "      <th>seq</th>\n",
       "      <th>amk</th>\n",
       "      <th>TRBV</th>\n",
       "      <th>TRBJ</th>\n",
       "    </tr>\n",
       "  </thead>\n",
       "  <tbody>\n",
       "    <tr>\n",
       "      <th>0</th>\n",
       "      <td>TGTGCCAGCAGCGGTAGGGGGACACTATTGGGCACCTTC</td>\n",
       "      <td>CASSGRGTLLGTF</td>\n",
       "      <td>TRBV7-9</td>\n",
       "      <td>TRBJ1-2</td>\n",
       "    </tr>\n",
       "    <tr>\n",
       "      <th>1</th>\n",
       "      <td>TGTGGACGGAAGGACGAGCAGTACTTC</td>\n",
       "      <td>CGRKDEQYF</td>\n",
       "      <td>TRBV20-1</td>\n",
       "      <td>TRBJ2-7</td>\n",
       "    </tr>\n",
       "    <tr>\n",
       "      <th>2</th>\n",
       "      <td>TGCAGTGCTCGGGGCGTCTTCTCTGAAGCTTTCTTT</td>\n",
       "      <td>CSARGVFSEAFF</td>\n",
       "      <td>TRBV20-1</td>\n",
       "      <td>TRBJ1-1</td>\n",
       "    </tr>\n",
       "    <tr>\n",
       "      <th>3</th>\n",
       "      <td>TGTGCCACCAATGACAGGGGGCGCACCTACAATGAGCAGTTCTTC</td>\n",
       "      <td>CATNDRGRTYNEQFF</td>\n",
       "      <td>TRBV24-1</td>\n",
       "      <td>TRBJ2-1</td>\n",
       "    </tr>\n",
       "    <tr>\n",
       "      <th>4</th>\n",
       "      <td>TGTGCCAGCAGTTTAGCTGGACTAGCGGGTTGTCGGAAGTTGACGG...</td>\n",
       "      <td>CASSLAGLAGCRKLTEETQYF</td>\n",
       "      <td>TRBV27</td>\n",
       "      <td>TRBJ2-5</td>\n",
       "    </tr>\n",
       "  </tbody>\n",
       "</table>\n",
       "</div>"
      ],
      "text/plain": [
       "                                                 seq                    amk  \\\n",
       "0            TGTGCCAGCAGCGGTAGGGGGACACTATTGGGCACCTTC          CASSGRGTLLGTF   \n",
       "1                        TGTGGACGGAAGGACGAGCAGTACTTC              CGRKDEQYF   \n",
       "2               TGCAGTGCTCGGGGCGTCTTCTCTGAAGCTTTCTTT           CSARGVFSEAFF   \n",
       "3      TGTGCCACCAATGACAGGGGGCGCACCTACAATGAGCAGTTCTTC        CATNDRGRTYNEQFF   \n",
       "4  TGTGCCAGCAGTTTAGCTGGACTAGCGGGTTGTCGGAAGTTGACGG...  CASSLAGLAGCRKLTEETQYF   \n",
       "\n",
       "       TRBV     TRBJ  \n",
       "0   TRBV7-9  TRBJ1-2  \n",
       "1  TRBV20-1  TRBJ2-7  \n",
       "2  TRBV20-1  TRBJ1-1  \n",
       "3  TRBV24-1  TRBJ2-1  \n",
       "4    TRBV27  TRBJ2-5  "
      ]
     },
     "execution_count": 4,
     "metadata": {},
     "output_type": "execute_result"
    }
   ],
   "source": [
    "column_names = ['seq', 'amk', 'TRBV', 'TRBJ']\n",
    "df = pd.read_csv('~/class/class_2/TRB_10_7.tsv', sep='\\t', header=None, names=column_names)\n",
    "df.head()"
   ]
  },
  {
   "cell_type": "markdown",
   "id": "83c08dbd-e3bf-4443-8534-5e4511ee0eaa",
   "metadata": {},
   "source": [
    "## 1.2 Построение графика"
   ]
  },
  {
   "cell_type": "code",
   "execution_count": 5,
   "id": "f3c4bfbe-8bf8-401a-87c5-24c3ea8110b4",
   "metadata": {},
   "outputs": [
    {
     "name": "stdout",
     "output_type": "stream",
     "text": [
      "Defaulting to user installation because normal site-packages is not writeable\n",
      "Requirement already satisfied: seaborn in ./.local/lib/python3.8/site-packages (0.13.2)\n",
      "Requirement already satisfied: pandas>=1.2 in ./.local/lib/python3.8/site-packages (from seaborn) (2.0.3)\n",
      "Requirement already satisfied: numpy!=1.24.0,>=1.20 in ./.local/lib/python3.8/site-packages (from seaborn) (1.24.4)\n",
      "Requirement already satisfied: matplotlib!=3.6.1,>=3.4 in ./.local/lib/python3.8/site-packages (from seaborn) (3.7.5)\n",
      "Requirement already satisfied: pillow>=6.2.0 in ./.local/lib/python3.8/site-packages (from matplotlib!=3.6.1,>=3.4->seaborn) (10.4.0)\n",
      "Requirement already satisfied: packaging>=20.0 in /opt/conda-2021122601/envs/jupyterhub/lib/python3.8/site-packages (from matplotlib!=3.6.1,>=3.4->seaborn) (21.3)\n",
      "Requirement already satisfied: cycler>=0.10 in ./.local/lib/python3.8/site-packages (from matplotlib!=3.6.1,>=3.4->seaborn) (0.12.1)\n",
      "Requirement already satisfied: python-dateutil>=2.7 in /opt/conda-2021122601/envs/jupyterhub/lib/python3.8/site-packages (from matplotlib!=3.6.1,>=3.4->seaborn) (2.8.2)\n",
      "Requirement already satisfied: pyparsing>=2.3.1 in /opt/conda-2021122601/envs/jupyterhub/lib/python3.8/site-packages (from matplotlib!=3.6.1,>=3.4->seaborn) (3.0.4)\n",
      "Requirement already satisfied: fonttools>=4.22.0 in ./.local/lib/python3.8/site-packages (from matplotlib!=3.6.1,>=3.4->seaborn) (4.56.0)\n",
      "Requirement already satisfied: contourpy>=1.0.1 in ./.local/lib/python3.8/site-packages (from matplotlib!=3.6.1,>=3.4->seaborn) (1.1.1)\n",
      "Requirement already satisfied: importlib-resources>=3.2.0 in /opt/conda-2021122601/envs/jupyterhub/lib/python3.8/site-packages (from matplotlib!=3.6.1,>=3.4->seaborn) (5.2.0)\n",
      "Requirement already satisfied: kiwisolver>=1.0.1 in ./.local/lib/python3.8/site-packages (from matplotlib!=3.6.1,>=3.4->seaborn) (1.4.7)\n",
      "Requirement already satisfied: zipp>=3.1.0 in /opt/conda-2021122601/envs/jupyterhub/lib/python3.8/site-packages (from importlib-resources>=3.2.0->matplotlib!=3.6.1,>=3.4->seaborn) (3.6.0)\n",
      "Requirement already satisfied: pytz>=2020.1 in /opt/conda-2021122601/envs/jupyterhub/lib/python3.8/site-packages (from pandas>=1.2->seaborn) (2021.3)\n",
      "Requirement already satisfied: tzdata>=2022.1 in ./.local/lib/python3.8/site-packages (from pandas>=1.2->seaborn) (2025.1)\n",
      "Requirement already satisfied: six>=1.5 in /opt/conda-2021122601/envs/jupyterhub/lib/python3.8/site-packages (from python-dateutil>=2.7->matplotlib!=3.6.1,>=3.4->seaborn) (1.16.0)\n",
      "Note: you may need to restart the kernel to use updated packages.\n"
     ]
    }
   ],
   "source": [
    "pip install seaborn"
   ]
  },
  {
   "cell_type": "code",
   "execution_count": 6,
   "id": "c8d8bec0-4c2a-4325-a1c4-a1bfc58b3d73",
   "metadata": {
    "tags": []
   },
   "outputs": [],
   "source": [
    "import seaborn as sns"
   ]
  },
  {
   "cell_type": "code",
   "execution_count": 7,
   "id": "8de26574-5003-4184-87fa-d4b05eceb30c",
   "metadata": {},
   "outputs": [
    {
     "name": "stderr",
     "output_type": "stream",
     "text": [
      "/scratch/ipykernel_1824666/2919240415.py:6: FutureWarning: \n",
      "\n",
      "Passing `palette` without assigning `hue` is deprecated and will be removed in v0.14.0. Assign the `x` variable to `hue` and set `legend=False` for the same effect.\n",
      "\n",
      "  sns.barplot(x=trbv_counts.index, y=trbv_counts.values, palette=\"viridis\")\n"
     ]
    },
    {
     "data": {
      "image/png": "[encoded data removed]",
      "text/plain": [
       "<Figure size 864x432 with 1 Axes>"
      ]
     },
     "metadata": {
      "needs_background": "light"
     },
     "output_type": "display_data"
    }
   ],
   "source": [
    "#мой график показывает как часто встречается каждый сегмент гена TRBV \n",
    "\n",
    "trbv_counts = df['TRBV'].value_counts() \n",
    "\n",
    "plt.figure(figsize=(12, 6))  \n",
    "sns.barplot(x=trbv_counts.index, y=trbv_counts.values, palette=\"viridis\")  \n",
    "plt.title('Распределение сегментов гена TRBV')\n",
    "plt.xlabel('Сегмент гена TRBV ')\n",
    "plt.ylabel('Колиество')\n",
    "plt.xticks(rotation=45, ha=\"right\")  \n",
    "plt.show()"
   ]
  },
  {
   "cell_type": "markdown",
   "id": "7afadfae-54fc-45ce-9f41-c8046babcae7",
   "metadata": {},
   "source": [
    "# 2. Картинка"
   ]
  },
  {
   "cell_type": "code",
   "execution_count": 8,
   "id": "2f0c91c5-2a30-4430-ace5-a9137e142089",
   "metadata": {},
   "outputs": [
    {
     "data": {
      "text/html": [
       "<img src=\"https://s0.rbk.ru/v6_top_pics/media/img/1/04/756529824000041.jpg\"/>"
      ],
      "text/plain": [
       "<IPython.core.display.Image object>"
      ]
     },
     "metadata": {},
     "output_type": "display_data"
    }
   ],
   "source": [
    "from IPython.display import Image, display\n",
    "image = 'https://s0.rbk.ru/v6_top_pics/media/img/1/04/756529824000041.jpg'\n",
    "display(Image(url=image))"
   ]
  },
  {
   "cell_type": "markdown",
   "id": "41385067-5fc9-4a3c-b0c1-eb02c96f50fb",
   "metadata": {},
   "source": [
    "# 3*"
   ]
  },
  {
   "cell_type": "code",
   "execution_count": 9,
   "id": "03325510-4411-44e9-9c1e-7163d8ec2023",
   "metadata": {},
   "outputs": [
    {
     "name": "stdout",
     "output_type": "stream",
     "text": [
      "Defaulting to user installation because normal site-packages is not writeable\n",
      "Requirement already satisfied: rpy2 in ./.local/lib/python3.8/site-packages (3.5.17)\n",
      "Requirement already satisfied: backports.zoneinfo in ./.local/lib/python3.8/site-packages (from rpy2) (0.2.1)\n",
      "Requirement already satisfied: tzlocal in ./.local/lib/python3.8/site-packages (from rpy2) (5.2)\n",
      "Requirement already satisfied: jinja2 in /opt/conda-2021122601/envs/jupyterhub/lib/python3.8/site-packages (from rpy2) (3.0.2)\n",
      "Requirement already satisfied: cffi>=1.15.1 in ./.local/lib/python3.8/site-packages (from rpy2) (1.17.1)\n",
      "Requirement already satisfied: pycparser in /opt/conda-2021122601/envs/jupyterhub/lib/python3.8/site-packages (from cffi>=1.15.1->rpy2) (2.21)\n",
      "Requirement already satisfied: MarkupSafe>=2.0 in /opt/conda-2021122601/envs/jupyterhub/lib/python3.8/site-packages (from jinja2->rpy2) (2.0.1)\n",
      "Note: you may need to restart the kernel to use updated packages.\n"
     ]
    }
   ],
   "source": [
    "pip install rpy2"
   ]
  },
  {
   "cell_type": "code",
   "execution_count": 10,
   "id": "a356bd04-c56d-49ab-8600-7892cd90f43a",
   "metadata": {},
   "outputs": [],
   "source": [
    "import rpy2.robjects as robjects\n",
    "from rpy2.robjects import pandas2ri\n",
    "from rpy2 import robjects\n",
    "from rpy2.robjects import r"
   ]
  },
  {
   "cell_type": "code",
   "execution_count": 11,
   "id": "85512b0f-8f28-474d-ace0-613ba74bdd10",
   "metadata": {},
   "outputs": [],
   "source": [
    "pandas2ri.activate()"
   ]
  },
  {
   "cell_type": "code",
   "execution_count": 12,
   "id": "e76a4ebd-c33b-4a9e-b1bb-762db3ec04ed",
   "metadata": {},
   "outputs": [],
   "source": [
    "from rpy2.robjects.conversion import localconverter"
   ]
  },
  {
   "cell_type": "code",
   "execution_count": 13,
   "id": "41cd9ecc-4322-4c25-bec9-31b9d875213d",
   "metadata": {},
   "outputs": [],
   "source": [
    "with localconverter(robjects.default_converter + pandas2ri.converter):\n",
    "  r_from_pd_df = robjects.conversion.py2rpy(df.head(100))\n"
   ]
  },
  {
   "cell_type": "code",
   "execution_count": 14,
   "id": "b9937333-ac12-44a5-9209-662f1b94d3f4",
   "metadata": {},
   "outputs": [],
   "source": [
    "robjects.globalenv['r_df'] = r_from_pd_df"
   ]
  },
  {
   "cell_type": "code",
   "execution_count": 15,
   "id": "b1625090-8c5a-47e8-a068-2970d039fc79",
   "metadata": {},
   "outputs": [],
   "source": [
    "robjects.r('library(ggplot2)')"
   ]
  },
  {
   "cell_type": "code",
   "execution_count": 16,
   "id": "d80b05c7-987c-4a74-bbdf-3f25088b7fef",
   "metadata": {},
   "outputs": [],
   "source": [
    "import rpy2.robjects.packages as rpackages\n"
   ]
  },
  {
   "cell_type": "code",
   "execution_count": 17,
   "id": "d425e172-3edf-4f3e-a22c-c8d7e6a128bc",
   "metadata": {},
   "outputs": [],
   "source": [
    "ggplot2 = rpackages.importr('ggplot2')\n",
    "base = rpackages.importr('base')\n",
    "\n",
    "plot = ggplot2.ggplot(r_from_pd_df) + \\\n",
    "       ggplot2.aes_string(x='TRBV') + \\\n",
    "       ggplot2.geom_bar() + \\\n",
    "       ggplot2.ggtitle(\"Distribution of TRBV Gene Segments (ggplot2)\") + \\\n",
    "       ggplot2.theme(axis_text_x = ggplot2.element_text(angle = 45, hjust = 1)) + \\\n",
    "       ggplot2.labs(title = \"Distribution of TRBV Gene Segments (ggplot2)\",\n",
    "       x = \"TRBV Gene Segment\",\n",
    "       y = \"Count\")"
   ]
  },
  {
   "cell_type": "code",
   "execution_count": 18,
   "id": "5b26a332-82d3-45c1-a445-35c36a1bdd31",
   "metadata": {},
   "outputs": [
    {
     "name": "stdout",
     "output_type": "stream",
     "text": [
      "grdevices imported successfully!\n"
     ]
    }
   ],
   "source": [
    "from rpy2.robjects.lib import grdevices\n",
    "print(\"grdevices imported successfully!\")"
   ]
  },
  {
   "cell_type": "code",
   "execution_count": 19,
   "id": "d5575db1-2e4e-4689-9635-20cbbade9913",
   "metadata": {},
   "outputs": [
    {
     "ename": "AttributeError",
     "evalue": "'ListVector' object has no attribute 'plot'",
     "output_type": "error",
     "traceback": [
      "\u001b[0;31m---------------------------------------------------------------------------\u001b[0m",
      "\u001b[0;31mAttributeError\u001b[0m                            Traceback (most recent call last)",
      "\u001b[0;32m/scratch/ipykernel_1824666/1280707809.py\u001b[0m in \u001b[0;36m<module>\u001b[0;34m\u001b[0m\n\u001b[1;32m     33\u001b[0m \u001b[0;31m# Display the plot using grdevices\u001b[0m\u001b[0;34m\u001b[0m\u001b[0;34m\u001b[0m\u001b[0;34m\u001b[0m\u001b[0m\n\u001b[1;32m     34\u001b[0m \u001b[0;32mwith\u001b[0m \u001b[0mgrdevices\u001b[0m\u001b[0;34m.\u001b[0m\u001b[0mrender_to_bytesio\u001b[0m\u001b[0;34m(\u001b[0m\u001b[0mgrdevices\u001b[0m\u001b[0;34m.\u001b[0m\u001b[0mpng\u001b[0m\u001b[0;34m,\u001b[0m \u001b[0mwidth\u001b[0m\u001b[0;34m=\u001b[0m\u001b[0;36m8\u001b[0m\u001b[0;34m,\u001b[0m \u001b[0mheight\u001b[0m\u001b[0;34m=\u001b[0m\u001b[0;36m6\u001b[0m\u001b[0;34m,\u001b[0m \u001b[0munits\u001b[0m\u001b[0;34m=\u001b[0m\u001b[0;34m\"in\"\u001b[0m\u001b[0;34m,\u001b[0m \u001b[0mres\u001b[0m\u001b[0;34m=\u001b[0m\u001b[0;36m150\u001b[0m\u001b[0;34m)\u001b[0m \u001b[0;32mas\u001b[0m \u001b[0mbuf\u001b[0m\u001b[0;34m:\u001b[0m\u001b[0;34m\u001b[0m\u001b[0;34m\u001b[0m\u001b[0m\n\u001b[0;32m---> 35\u001b[0;31m     \u001b[0mplot\u001b[0m\u001b[0;34m.\u001b[0m\u001b[0mplot\u001b[0m\u001b[0;34m(\u001b[0m\u001b[0;34m)\u001b[0m\u001b[0;34m\u001b[0m\u001b[0;34m\u001b[0m\u001b[0m\n\u001b[0m\u001b[1;32m     36\u001b[0m     \u001b[0mr_result\u001b[0m \u001b[0;34m=\u001b[0m \u001b[0mbuf\u001b[0m\u001b[0;34m.\u001b[0m\u001b[0mgetvalue\u001b[0m\u001b[0;34m(\u001b[0m\u001b[0;34m)\u001b[0m\u001b[0;34m\u001b[0m\u001b[0;34m\u001b[0m\u001b[0m\n\u001b[1;32m     37\u001b[0m \u001b[0;34m\u001b[0m\u001b[0m\n",
      "\u001b[0;31mAttributeError\u001b[0m: 'ListVector' object has no attribute 'plot'"
     ]
    }
   ],
   "source": [
    "import pandas as pd\n",
    "import rpy2.robjects as robjects\n",
    "from rpy2.robjects import pandas2ri\n",
    "from rpy2.robjects.conversion import localconverter\n",
    "import rpy2.robjects.packages as rpackages\n",
    "from rpy2.robjects.lib import grdevices\n",
    "from IPython import display\n",
    "\n",
    "# Load your data (assuming you still have this)\n",
    "column_names = ['seq', 'amk', 'TRBV', 'TRBJ']\n",
    "df = pd.read_csv('~/class/class_2/TRB_10_7.tsv', sep='\\t', header=None, names=column_names)\n",
    "\n",
    "# Activate pandas conversion in rpy2\n",
    "pandas2ri.activate()\n",
    "\n",
    "# Convert the pandas DataFrame to an R data frame\n",
    "with localconverter(robjects.default_converter + pandas2ri.converter):\n",
    "  r_from_pd_df = robjects.conversion.py2rpy(df.head(100))\n",
    "\n",
    "# Construct and show the ggplot2 plot in Python\n",
    "ggplot2 = rpackages.importr('ggplot2')\n",
    "base = rpackages.importr('base')\n",
    "\n",
    "plot = ggplot2.ggplot(r_from_pd_df) + \\\n",
    "       ggplot2.aes_string(x='TRBV') + \\\n",
    "       ggplot2.geom_bar() + \\\n",
    "       ggplot2.ggtitle(\"Distribution of TRBV Gene Segments (ggplot2)\") + \\\n",
    "       ggplot2.theme(axis_text_x = ggplot2.element_text(angle = 45, hjust = 1)) + \\\n",
    "       ggplot2.labs(title = \"Distribution of TRBV Gene Segments (ggplot2)\",\n",
    "       x = \"TRBV Gene Segment\",\n",
    "       y = \"Count\")\n",
    "\n",
    "# Display the plot using grdevices\n",
    "with grdevices.render_to_bytesio(grdevices.png, width=8, height=6, units=\"in\", res=150) as buf:\n",
    "    plot.plot()\n",
    "    r_result = buf.getvalue()\n",
    "\n",
    "display.Image(data=r_result, format='png')"
   ]
  },
  {
   "cell_type": "code",
   "execution_count": null,
   "id": "67ba9439-bfb3-4532-80db-1b6dd70ed846",
   "metadata": {},
   "outputs": [],
   "source": []
  }
 ],
 "metadata": {
  "kernelspec": {
   "display_name": "Python 3 (ipykernel)",
   "language": "python",
   "name": "python3"
  },
  "language_info": {
   "codemirror_mode": {
    "name": "ipython",
    "version": 3
   },
   "file_extension": ".py",
   "mimetype": "text/x-python",
   "name": "python",
   "nbconvert_exporter": "python",
   "pygments_lexer": "ipython3",
   "version": "3.8.12"
  }
 },
 "nbformat": 4,
 "nbformat_minor": 5
}
